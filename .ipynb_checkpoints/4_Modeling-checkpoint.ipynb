{
 "cells": [
  {
   "cell_type": "markdown",
   "id": "ca9425af-4709-4c31-8cf5-f9db6a75f5eb",
   "metadata": {},
   "source": [
    "# 1. Library Imports"
   ]
  },
  {
   "cell_type": "code",
   "execution_count": 1,
   "id": "be0b3efc-6edf-48e0-8435-1ef9f0047ce1",
   "metadata": {
    "tags": []
   },
   "outputs": [],
   "source": [
    "import pandas as pd\n",
    "import matplotlib.pyplot as plt\n",
    "import seaborn as sns\n",
    "\n",
    "from sklearn.feature_extraction.text import TfidfVectorizer\n",
    "from sklearn.model_selection import train_test_split\n",
    "from sklearn.metrics import accuracy_score, classification_report, precision_score, recall_score, f1_score, confusion_matrix\n",
    "from sklearn.naive_bayes import MultinomialNB\n",
    "from sklearn.utils import resample"
   ]
  },
  {
   "cell_type": "markdown",
   "id": "5376ed23-f26e-4ec2-ab89-e42eab5f35b3",
   "metadata": {},
   "source": [
    "# 2. Dataset"
   ]
  },
  {
   "cell_type": "code",
   "execution_count": 2,
   "id": "ffaa7b4b-4de8-4857-b8ef-64be55acac2b",
   "metadata": {
    "tags": []
   },
   "outputs": [
    {
     "data": {
      "text/html": [
       "<div>\n",
       "<style scoped>\n",
       "    .dataframe tbody tr th:only-of-type {\n",
       "        vertical-align: middle;\n",
       "    }\n",
       "\n",
       "    .dataframe tbody tr th {\n",
       "        vertical-align: top;\n",
       "    }\n",
       "\n",
       "    .dataframe thead th {\n",
       "        text-align: right;\n",
       "    }\n",
       "</style>\n",
       "<table border=\"1\" class=\"dataframe\">\n",
       "  <thead>\n",
       "    <tr style=\"text-align: right;\">\n",
       "      <th></th>\n",
       "      <th>reviews</th>\n",
       "      <th>sentiment</th>\n",
       "    </tr>\n",
       "  </thead>\n",
       "  <tbody>\n",
       "    <tr>\n",
       "      <th>0</th>\n",
       "      <td>talk stone cold classic genre feels fresh thri...</td>\n",
       "      <td>Positive</td>\n",
       "    </tr>\n",
       "    <tr>\n",
       "      <th>1</th>\n",
       "      <td>group youngsters discover taking part small ri...</td>\n",
       "      <td>Positive</td>\n",
       "    </tr>\n",
       "    <tr>\n",
       "      <th>2</th>\n",
       "      <td>danny michael philippou truly made something s...</td>\n",
       "      <td>Positive</td>\n",
       "    </tr>\n",
       "    <tr>\n",
       "      <th>3</th>\n",
       "      <td>watched talk early part regals mystery monday ...</td>\n",
       "      <td>Positive</td>\n",
       "    </tr>\n",
       "    <tr>\n",
       "      <th>4</th>\n",
       "      <td>premise initially drew although different simi...</td>\n",
       "      <td>Positive</td>\n",
       "    </tr>\n",
       "  </tbody>\n",
       "</table>\n",
       "</div>"
      ],
      "text/plain": [
       "                                             reviews sentiment\n",
       "0  talk stone cold classic genre feels fresh thri...  Positive\n",
       "1  group youngsters discover taking part small ri...  Positive\n",
       "2  danny michael philippou truly made something s...  Positive\n",
       "3  watched talk early part regals mystery monday ...  Positive\n",
       "4  premise initially drew although different simi...  Positive"
      ]
     },
     "execution_count": 2,
     "metadata": {},
     "output_type": "execute_result"
    }
   ],
   "source": [
    "df_reviews = pd.read_csv('Data/model_reviews.csv')\n",
    "\n",
    "df_reviews.head()"
   ]
  },
  {
   "cell_type": "markdown",
   "id": "89620445-97e9-4267-9a88-6c6c85f5f85a",
   "metadata": {},
   "source": [
    "# 3. Naïve-Bayes"
   ]
  },
  {
   "cell_type": "code",
   "execution_count": 3,
   "id": "009aa017-75fa-4cfa-b5bd-a26914fa1094",
   "metadata": {
    "tags": []
   },
   "outputs": [
    {
     "data": {
      "text/plain": [
       "sentiment\n",
       "Positive    7665\n",
       "Negative    5772\n",
       "Neutral     1043\n",
       "Name: count, dtype: int64"
      ]
     },
     "execution_count": 3,
     "metadata": {},
     "output_type": "execute_result"
    }
   ],
   "source": [
    "df_reviews.sentiment.value_counts()"
   ]
  },
  {
   "cell_type": "markdown",
   "id": "271b7084-ad5f-48f6-b44b-838b7dc3061f",
   "metadata": {},
   "source": [
    "## 3.1. Balancing classes and pre-processing"
   ]
  },
  {
   "cell_type": "markdown",
   "id": "117dd0df-ae01-441c-8464-0fa76a175701",
   "metadata": {},
   "source": [
    "**Resample explanations:** \n",
    "- replace: If True, upsampling will be done with replacement, meaning that the same instances can be sampled multiple times. This is commonly used in upsampling to balance the classes.\n",
    "\n",
    "- n_samples: The total number of samples after resampling. In the context of balancing classes, you usually want to set n_samples to the number of samples from the majority class, so that the minority class is increased to reach this number."
   ]
  },
  {
   "cell_type": "code",
   "execution_count": 4,
   "id": "c36e43ae-c746-4f87-af60-bdfd8282630f",
   "metadata": {
    "tags": []
   },
   "outputs": [],
   "source": [
    "# Class balancing\n",
    "df_positive = df_reviews[df_reviews['sentiment'] == 'Positive']\n",
    "df_negative = df_reviews[df_reviews['sentiment'] == 'Negative']\n",
    "df_neutral = df_reviews[df_reviews['sentiment'] == 'Neutral']\n",
    "\n",
    "# Upsample das classes 'Negative' e 'Neutral' to balance\n",
    "df_negative_upsampled = resample(df_negative, replace=True, n_samples=len(df_positive), random_state=42)\n",
    "df_neutral_upsampled = resample(df_neutral, replace=True, n_samples=len(df_positive), random_state=42)\n",
    "\n",
    "# Combine balanced df\n",
    "df_balanced = pd.concat([df_positive, df_negative_upsampled, df_neutral_upsampled])"
   ]
  },
  {
   "cell_type": "code",
   "execution_count": 5,
   "id": "99ec0ed9-981a-4c4d-aca7-5aa1781686a0",
   "metadata": {
    "tags": []
   },
   "outputs": [],
   "source": [
    "# Data pre-processing\n",
    "X = df_balanced['reviews']\n",
    "y = df_balanced['sentiment']"
   ]
  },
  {
   "cell_type": "code",
   "execution_count": 6,
   "id": "f6a905c0-2c1e-414d-8056-055027c3619a",
   "metadata": {},
   "outputs": [
    {
     "data": {
      "text/plain": [
       "sentiment\n",
       "Positive    7665\n",
       "Negative    7665\n",
       "Neutral     7665\n",
       "Name: count, dtype: int64"
      ]
     },
     "execution_count": 6,
     "metadata": {},
     "output_type": "execute_result"
    }
   ],
   "source": [
    "y.value_counts()"
   ]
  },
  {
   "cell_type": "markdown",
   "id": "92a502b4-96f3-453f-923d-ec6dce14dfc9",
   "metadata": {},
   "source": [
    "## 3.2. Vectorization\n",
    "\n",
    "Enables a text convertion so it can be represented as numeric values"
   ]
  },
  {
   "cell_type": "code",
   "execution_count": 7,
   "id": "93603f15-5d51-43a1-acf4-12a5096631e6",
   "metadata": {
    "tags": []
   },
   "outputs": [],
   "source": [
    "# Vectorization\n",
    "vectorizer = TfidfVectorizer()\n",
    "X = vectorizer.fit_transform(X)"
   ]
  },
  {
   "cell_type": "markdown",
   "id": "6b93d530-510a-4f96-9d3a-10c7e52b6430",
   "metadata": {},
   "source": [
    "## 3.3 Spliting for training and test\n",
    "\n",
    "Diving the data in train (80%) and test (20%) to follow the pareto principle, and traning a multinomial NB model"
   ]
  },
  {
   "cell_type": "code",
   "execution_count": 8,
   "id": "5ed29133-ff0c-4fd1-a8eb-dc65ca35e116",
   "metadata": {
    "tags": []
   },
   "outputs": [
    {
     "data": {
      "text/html": [
       "<style>#sk-container-id-1 {color: black;}#sk-container-id-1 pre{padding: 0;}#sk-container-id-1 div.sk-toggleable {background-color: white;}#sk-container-id-1 label.sk-toggleable__label {cursor: pointer;display: block;width: 100%;margin-bottom: 0;padding: 0.3em;box-sizing: border-box;text-align: center;}#sk-container-id-1 label.sk-toggleable__label-arrow:before {content: \"▸\";float: left;margin-right: 0.25em;color: #696969;}#sk-container-id-1 label.sk-toggleable__label-arrow:hover:before {color: black;}#sk-container-id-1 div.sk-estimator:hover label.sk-toggleable__label-arrow:before {color: black;}#sk-container-id-1 div.sk-toggleable__content {max-height: 0;max-width: 0;overflow: hidden;text-align: left;background-color: #f0f8ff;}#sk-container-id-1 div.sk-toggleable__content pre {margin: 0.2em;color: black;border-radius: 0.25em;background-color: #f0f8ff;}#sk-container-id-1 input.sk-toggleable__control:checked~div.sk-toggleable__content {max-height: 200px;max-width: 100%;overflow: auto;}#sk-container-id-1 input.sk-toggleable__control:checked~label.sk-toggleable__label-arrow:before {content: \"▾\";}#sk-container-id-1 div.sk-estimator input.sk-toggleable__control:checked~label.sk-toggleable__label {background-color: #d4ebff;}#sk-container-id-1 div.sk-label input.sk-toggleable__control:checked~label.sk-toggleable__label {background-color: #d4ebff;}#sk-container-id-1 input.sk-hidden--visually {border: 0;clip: rect(1px 1px 1px 1px);clip: rect(1px, 1px, 1px, 1px);height: 1px;margin: -1px;overflow: hidden;padding: 0;position: absolute;width: 1px;}#sk-container-id-1 div.sk-estimator {font-family: monospace;background-color: #f0f8ff;border: 1px dotted black;border-radius: 0.25em;box-sizing: border-box;margin-bottom: 0.5em;}#sk-container-id-1 div.sk-estimator:hover {background-color: #d4ebff;}#sk-container-id-1 div.sk-parallel-item::after {content: \"\";width: 100%;border-bottom: 1px solid gray;flex-grow: 1;}#sk-container-id-1 div.sk-label:hover label.sk-toggleable__label {background-color: #d4ebff;}#sk-container-id-1 div.sk-serial::before {content: \"\";position: absolute;border-left: 1px solid gray;box-sizing: border-box;top: 0;bottom: 0;left: 50%;z-index: 0;}#sk-container-id-1 div.sk-serial {display: flex;flex-direction: column;align-items: center;background-color: white;padding-right: 0.2em;padding-left: 0.2em;position: relative;}#sk-container-id-1 div.sk-item {position: relative;z-index: 1;}#sk-container-id-1 div.sk-parallel {display: flex;align-items: stretch;justify-content: center;background-color: white;position: relative;}#sk-container-id-1 div.sk-item::before, #sk-container-id-1 div.sk-parallel-item::before {content: \"\";position: absolute;border-left: 1px solid gray;box-sizing: border-box;top: 0;bottom: 0;left: 50%;z-index: -1;}#sk-container-id-1 div.sk-parallel-item {display: flex;flex-direction: column;z-index: 1;position: relative;background-color: white;}#sk-container-id-1 div.sk-parallel-item:first-child::after {align-self: flex-end;width: 50%;}#sk-container-id-1 div.sk-parallel-item:last-child::after {align-self: flex-start;width: 50%;}#sk-container-id-1 div.sk-parallel-item:only-child::after {width: 0;}#sk-container-id-1 div.sk-dashed-wrapped {border: 1px dashed gray;margin: 0 0.4em 0.5em 0.4em;box-sizing: border-box;padding-bottom: 0.4em;background-color: white;}#sk-container-id-1 div.sk-label label {font-family: monospace;font-weight: bold;display: inline-block;line-height: 1.2em;}#sk-container-id-1 div.sk-label-container {text-align: center;}#sk-container-id-1 div.sk-container {/* jupyter's `normalize.less` sets `[hidden] { display: none; }` but bootstrap.min.css set `[hidden] { display: none !important; }` so we also need the `!important` here to be able to override the default hidden behavior on the sphinx rendered scikit-learn.org. See: https://github.com/scikit-learn/scikit-learn/issues/21755 */display: inline-block !important;position: relative;}#sk-container-id-1 div.sk-text-repr-fallback {display: none;}</style><div id=\"sk-container-id-1\" class=\"sk-top-container\"><div class=\"sk-text-repr-fallback\"><pre>MultinomialNB()</pre><b>In a Jupyter environment, please rerun this cell to show the HTML representation or trust the notebook. <br />On GitHub, the HTML representation is unable to render, please try loading this page with nbviewer.org.</b></div><div class=\"sk-container\" hidden><div class=\"sk-item\"><div class=\"sk-estimator sk-toggleable\"><input class=\"sk-toggleable__control sk-hidden--visually\" id=\"sk-estimator-id-1\" type=\"checkbox\" checked><label for=\"sk-estimator-id-1\" class=\"sk-toggleable__label sk-toggleable__label-arrow\">MultinomialNB</label><div class=\"sk-toggleable__content\"><pre>MultinomialNB()</pre></div></div></div></div></div>"
      ],
      "text/plain": [
       "MultinomialNB()"
      ]
     },
     "execution_count": 8,
     "metadata": {},
     "output_type": "execute_result"
    }
   ],
   "source": [
    "# Divisão dos dados em conjuntos de treinamento e teste (80/20)\n",
    "X_train, X_test, y_train, y_test = train_test_split(X, y, test_size=0.2, random_state=42)\n",
    "\n",
    "# Criação e treinamento do modelo Naive Bayes Multinomial\n",
    "model = MultinomialNB()\n",
    "model.fit(X_train, y_train)"
   ]
  },
  {
   "cell_type": "markdown",
   "id": "a5329b31-b6a9-400d-949f-dfcbe27b719b",
   "metadata": {},
   "source": [
    "## 3.4. Results"
   ]
  },
  {
   "cell_type": "code",
   "execution_count": 9,
   "id": "55ccdbff-2036-4b24-aba9-29cc21292806",
   "metadata": {
    "tags": []
   },
   "outputs": [
    {
     "name": "stdout",
     "output_type": "stream",
     "text": [
      "Acurácia: 0.81\n",
      "Relatório de Classificação:\n",
      "              precision    recall  f1-score   support\n",
      "\n",
      "    Negative       0.80      0.79      0.80      1530\n",
      "     Neutral       0.88      0.87      0.87      1540\n",
      "    Positive       0.76      0.78      0.77      1529\n",
      "\n",
      "    accuracy                           0.81      4599\n",
      "   macro avg       0.81      0.81      0.81      4599\n",
      "weighted avg       0.81      0.81      0.81      4599\n",
      "\n"
     ]
    }
   ],
   "source": [
    "# Realização de previsões no conjunto de teste\n",
    "y_pred = model.predict(X_test)\n",
    "\n",
    "# Avaliação do desempenho do modelo\n",
    "accuracy = accuracy_score(y_test, y_pred)\n",
    "print(f'Acurácia: {accuracy:.2f}')\n",
    "\n",
    "print(\"Relatório de Classificação:\")\n",
    "print(classification_report(y_test, y_pred))"
   ]
  },
  {
   "cell_type": "code",
   "execution_count": 10,
   "id": "3b7dd82f-1cf3-4ca3-9a1d-a632907efcb5",
   "metadata": {
    "tags": []
   },
   "outputs": [
    {
     "data": {
      "image/png": "[encoded data removed]",
      "text/plain": [
       "<Figure size 800x600 with 2 Axes>"
      ]
     },
     "metadata": {},
     "output_type": "display_data"
    }
   ],
   "source": [
    "# Confusion Matrix Function\n",
    "def plot_confusion_matrix(y_true, y_pred, classes):\n",
    "    cm = confusion_matrix(y_true, y_pred, labels=classes)\n",
    "    plt.figure(figsize=(8, 6))\n",
    "    sns.heatmap(cm, annot=True, fmt='d', cmap='Blues', xticklabels=classes, yticklabels=classes)\n",
    "    plt.title('Matriz de Confusão')\n",
    "    plt.xlabel('Predito')\n",
    "    plt.ylabel('Real')\n",
    "    plt.show()\n",
    "\n",
    "# Definir as classes\n",
    "classes = ['Positive', 'Negative', 'Neutral']\n",
    "\n",
    "# Plotar a matriz de confusão\n",
    "plot_confusion_matrix(y_test, y_pred, classes)"
   ]
  },
  {
   "cell_type": "code",
   "execution_count": 11,
   "id": "5e02e7d7-9028-4e40-a048-0b783d828b14",
   "metadata": {
    "tags": []
   },
   "outputs": [
    {
     "data": {
      "image/png": "[encoded data removed]",
      "text/plain": [
       "<Figure size 1000x600 with 1 Axes>"
      ]
     },
     "metadata": {},
     "output_type": "display_data"
    }
   ],
   "source": [
    "# Ploting metricas\n",
    "def plot_metrics(y_true, y_pred, classes):\n",
    "    precision = precision_score(y_true, y_pred, average=None, labels=classes)\n",
    "    recall = recall_score(y_true, y_pred, average=None, labels=classes)\n",
    "    f1 = f1_score(y_true, y_pred, average=None, labels=classes)\n",
    "\n",
    "    metrics_df = pd.DataFrame({\n",
    "        'Precision': precision,\n",
    "        'Recall': recall,\n",
    "        'F1 Score': f1\n",
    "    }, index=classes)\n",
    "\n",
    "    # Transpõe o DataFrame para facilitar a plotagem\n",
    "    metrics_df = metrics_df.T\n",
    "\n",
    "    # Definir cores para cada classe\n",
    "    colors = {'Positive': '#334E68', 'Negative': 'orange', 'Neutral': 'lightgrey'}\n",
    "\n",
    "    # Plotar o gráfico de barras\n",
    "    ax = metrics_df.plot(kind='bar', figsize=(10, 6), color=[colors.get(c, 'grey') for c in classes], rot=0)\n",
    "\n",
    "    # Adicionar os valores acima de cada barra\n",
    "    for p in ax.patches:\n",
    "        ax.annotate(f'{p.get_height():.2f}', (p.get_x() + p.get_width() / 2., p.get_height()),\n",
    "                    ha='center', va='center', xytext=(0, 10), textcoords='offset points')\n",
    "\n",
    "    plt.title('Métricas de Avaliação por Classe')\n",
    "    plt.ylabel('Valor')\n",
    "    plt.xlabel('Métrica')\n",
    "    \n",
    "    # Posiciona a legenda fora da área do gráfico\n",
    "    plt.legend(title=None, bbox_to_anchor=(1.05, 1), loc='upper left')\n",
    "\n",
    "    plt.show()\n",
    "\n",
    "\n",
    "# Plotar métricas\n",
    "plot_metrics(y_test, y_pred, classes)"
   ]
  },
  {
   "cell_type": "markdown",
   "id": "f5454ed3-598d-4ca0-a97e-ebaefb505ce3",
   "metadata": {},
   "source": [
    "# 4. Neural Network (BERT)"
   ]
  },
  {
   "cell_type": "code",
   "execution_count": null,
   "id": "91896dd5-f773-44f2-9250-94026db5de81",
   "metadata": {},
   "outputs": [],
   "source": []
  }
 ],
 "metadata": {
  "kernelspec": {
   "display_name": "Python 3 (ipykernel)",
   "language": "python",
   "name": "python3"
  },
  "language_info": {
   "codemirror_mode": {
    "name": "ipython",
    "version": 3
   },
   "file_extension": ".py",
   "mimetype": "text/x-python",
   "name": "python",
   "nbconvert_exporter": "python",
   "pygments_lexer": "ipython3",
   "version": "3.11.3"
  }
 },
 "nbformat": 4,
 "nbformat_minor": 5
}
