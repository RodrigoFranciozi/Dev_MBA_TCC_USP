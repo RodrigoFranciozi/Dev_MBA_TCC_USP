{
 "cells": [
  {
   "cell_type": "markdown",
   "id": "c383e6c5-65cc-4a95-a12d-b7bf8d9ce761",
   "metadata": {},
   "source": [
    "# 1. Imports"
   ]
  },
  {
   "cell_type": "code",
   "execution_count": 12,
   "id": "790bc0da-e857-465d-b10e-84a7c73f3af3",
   "metadata": {
    "tags": []
   },
   "outputs": [],
   "source": [
    "import pandas as pd\n",
    "import requests\n",
    "from bs4 import BeautifulSoup\n",
    "from selenium import webdriver\n",
    "from selenium.webdriver.common.by import By\n",
    "from selenium.webdriver.support.ui import WebDriverWait\n",
    "from selenium.webdriver.support import expected_conditions as EC\n",
    "import time\n",
    "import random\n",
    "from langdetect import detect"
   ]
  },
  {
   "cell_type": "markdown",
   "id": "231c57c0-8070-4b52-9f1e-1b3e0c475818",
   "metadata": {},
   "source": [
    "# 2. Defining the movies list"
   ]
  },
  {
   "cell_type": "code",
   "execution_count": 2,
   "id": "a01f826e-2aa1-4bae-bde5-6f1699eaa62e",
   "metadata": {
    "tags": []
   },
   "outputs": [],
   "source": [
    "# Create a function to scrape movies for a given year\n",
    "def scrape_movies_for_year(year):\n",
    "    # Scrape movies from a given year\n",
    "    url = f'https://www.imdb.com/search/title/?title_type=feature&release_date={year}-01-01,{year}-12-31'\n",
    "    response = requests.get(url)\n",
    "\n",
    "    if response.status_code == 200:\n",
    "        # parses the HTML content of the IMDb page, making it easier to extract data\n",
    "        soup = BeautifulSoup(response.text, 'html.parser')\n",
    "        \n",
    "        # Finds all the movies using the heather 3 from HTML and are located at this class\n",
    "        movie_links = soup.find_all('h3', class_='lister-item-header')\n",
    "\n",
    "        good_movie_urls = []\n",
    "        bad_movie_urls = []\n",
    "\n",
    "        for link in movie_links:\n",
    "            title = link.a.text # Extracts title\n",
    "            movie_url = 'https://www.imdb.com' + link.a['href'] # Extracts URL\n",
    "            rating_container = link.find_next('div', class_='ratings-imdb-rating') # Convert rating to a float value, so we can compare using a condition.\n",
    "\n",
    "            if rating_container:\n",
    "                rating = float(rating_container.strong.text)\n",
    "                if rating >= 6.0:\n",
    "                    good_movie_urls.append(movie_url)\n",
    "                else:\n",
    "                    bad_movie_urls.append(movie_url)\n",
    "\n",
    "        # Determine the number of movies to collect based on the minimum number of \"Bad Movies\"\n",
    "        num_movies_to_collect = min(len(good_movie_urls), len(bad_movie_urls))\n",
    "\n",
    "        good_movie_urls = good_movie_urls[:num_movies_to_collect]\n",
    "        bad_movie_urls = bad_movie_urls[:num_movies_to_collect]\n",
    "\n",
    "        return good_movie_urls, bad_movie_urls\n",
    "\n",
    "    else:\n",
    "        print(f'Request for {year} failed. Status code: {response.status_code}')\n",
    "        return [], []\n",
    "\n",
    "# Scrape movies for 2022 and 2023\n",
    "good_movies_2022, bad_movies_2022 = scrape_movies_for_year(2022)\n",
    "good_movies_2023, bad_movies_2023 = scrape_movies_for_year(2023)\n",
    "\n",
    "# Combine the results\n",
    "all_good_movies = good_movies_2022 + good_movies_2023\n",
    "all_bad_movies = bad_movies_2022 + bad_movies_2023"
   ]
  },
  {
   "cell_type": "code",
   "execution_count": 3,
   "id": "e832c4b0-c362-43bf-89d6-7f5728d0ee67",
   "metadata": {
    "tags": []
   },
   "outputs": [
    {
     "data": {
      "text/plain": [
       "['https://www.imdb.com/title/tt10638522/',\n",
       " 'https://www.imdb.com/title/tt13560574/',\n",
       " 'https://www.imdb.com/title/tt18925334/',\n",
       " 'https://www.imdb.com/title/tt11245972/',\n",
       " 'https://www.imdb.com/title/tt15791034/',\n",
       " 'https://www.imdb.com/title/tt5537002/',\n",
       " 'https://www.imdb.com/title/tt18394190/',\n",
       " 'https://www.imdb.com/title/tt15671028/',\n",
       " 'https://www.imdb.com/title/tt21807222/',\n",
       " 'https://www.imdb.com/title/tt15257160/',\n",
       " 'https://www.imdb.com/title/tt17351924/',\n",
       " 'https://www.imdb.com/title/tt13274016/',\n",
       " 'https://www.imdb.com/title/tt5535276/',\n",
       " 'https://www.imdb.com/title/tt5648882/',\n",
       " 'https://www.imdb.com/title/tt11858890/',\n",
       " 'https://www.imdb.com/title/tt11426232/']"
      ]
     },
     "execution_count": 3,
     "metadata": {},
     "output_type": "execute_result"
    }
   ],
   "source": [
    "all_good_movies"
   ]
  },
  {
   "cell_type": "code",
   "execution_count": 4,
   "id": "37343c98-ad11-48d0-a2aa-8a2429c1f7a0",
   "metadata": {
    "tags": []
   },
   "outputs": [
    {
     "data": {
      "text/plain": [
       "['https://www.imdb.com/title/tt10665342/',\n",
       " 'https://www.imdb.com/title/tt21307994/',\n",
       " 'https://www.imdb.com/title/tt15978956/',\n",
       " 'https://www.imdb.com/title/tt2180339/',\n",
       " 'https://www.imdb.com/title/tt11755740/',\n",
       " 'https://www.imdb.com/title/tt4589218/',\n",
       " 'https://www.imdb.com/title/tt12921446/',\n",
       " 'https://www.imdb.com/title/tt11951276/',\n",
       " 'https://www.imdb.com/title/tt13287846/',\n",
       " 'https://www.imdb.com/title/tt18363072/',\n",
       " 'https://www.imdb.com/title/tt26787296/',\n",
       " 'https://www.imdb.com/title/tt10160976/',\n",
       " 'https://www.imdb.com/title/tt3291150/',\n",
       " 'https://www.imdb.com/title/tt19623240/',\n",
       " 'https://www.imdb.com/title/tt15744298/',\n",
       " 'https://www.imdb.com/title/tt3427252/']"
      ]
     },
     "execution_count": 4,
     "metadata": {},
     "output_type": "execute_result"
    }
   ],
   "source": [
    "all_bad_movies"
   ]
  },
  {
   "cell_type": "code",
   "execution_count": 5,
   "id": "38eea969-827f-43cf-bef8-99635a0df330",
   "metadata": {
    "tags": []
   },
   "outputs": [],
   "source": [
    "# Define the review clause\n",
    "review_clause = 'reviews/'\n",
    "\n",
    "# Modify the URLs in the all_good_movies list\n",
    "all_good_movies = [url + review_clause for url in all_good_movies]\n",
    "\n",
    "# Modify the URLs in the all_bad_movies list\n",
    "all_bad_movies = [url + review_clause for url in all_bad_movies]"
   ]
  },
  {
   "cell_type": "code",
   "execution_count": null,
   "id": "29d57888-b994-4801-ba2b-932d8986fd35",
   "metadata": {
    "tags": []
   },
   "outputs": [],
   "source": [
    "# # Selecting 5 movies at random\n",
    "# random_good_movies = random.sample(all_good_movies, 5)\n",
    "# random_good_movies"
   ]
  },
  {
   "cell_type": "code",
   "execution_count": null,
   "id": "27434d93-3ee9-45c1-a1c1-a2d1d4e5df20",
   "metadata": {
    "tags": []
   },
   "outputs": [],
   "source": [
    "# # Selecting 5 movies at random\n",
    "# random_bad_movies = random.sample(all_bad_movies, 5)\n",
    "# random_bad_movies"
   ]
  },
  {
   "cell_type": "markdown",
   "id": "464ccbbf-723d-416c-9416-258f051632ed",
   "metadata": {},
   "source": [
    "# 3. Saving the comments from each chosen movie"
   ]
  },
  {
   "cell_type": "code",
   "execution_count": 7,
   "id": "1767d9dc-b307-46c5-a5ae-42dd92eba81d",
   "metadata": {},
   "outputs": [],
   "source": [
    "def scrape_imdb_reviews(url):\n",
    "    comments = []\n",
    "    dates = []\n",
    "\n",
    "    # Set up the Safari WebDriver\n",
    "    driver = webdriver.Safari()\n",
    "\n",
    "    try:\n",
    "        driver.get(url)\n",
    "\n",
    "        while True:\n",
    "            # Wait for the \"Load More\" button to become clickable\n",
    "            load_more_button = WebDriverWait(driver, 10).until(\n",
    "                EC.element_to_be_clickable((By.CLASS_NAME, \"ipl-load-more__button\"))\n",
    "            )\n",
    "\n",
    "            # Click the \"Load More\" button\n",
    "            load_more_button.click()\n",
    "\n",
    "            # Wait for new reviews to load\n",
    "            time.sleep(2)\n",
    "\n",
    "            # Extract comments and dates\n",
    "            review_containers = driver.find_elements(By.CLASS_NAME, \"text.show-more__control\")\n",
    "            date_containers = driver.find_elements(By.CLASS_NAME, \"review-date\")\n",
    "\n",
    "            for review, date in zip(review_containers, date_containers):\n",
    "                comments.append(review.text.strip())\n",
    "                dates.append(date.text.strip())\n",
    "\n",
    "    except Exception as e:\n",
    "        print(f\"An error occurred: {str(e)}\")\n",
    "    finally:\n",
    "        driver.quit()\n",
    "\n",
    "    return comments, dates"
   ]
  },
  {
   "cell_type": "code",
   "execution_count": 9,
   "id": "b807e245-ff4d-425c-bd0b-a3c97a9b656f",
   "metadata": {
    "collapsed": true,
    "jupyter": {
     "outputs_hidden": true
    },
    "tags": []
   },
   "outputs": [
    {
     "name": "stdout",
     "output_type": "stream",
     "text": [
      "An error occurred: Message: \n",
      "\n",
      "An error occurred: Message: \n",
      "\n",
      "An error occurred: Message: \n",
      "\n",
      "An error occurred: Message: \n",
      "\n",
      "An error occurred: Message: \n",
      "\n",
      "An error occurred: Message: \n",
      "\n",
      "An error occurred: Message: \n",
      "\n",
      "An error occurred: Message: \n",
      "\n",
      "An error occurred: Message: \n",
      "\n",
      "An error occurred: Message: \n",
      "\n",
      "An error occurred: Message: \n",
      "\n",
      "An error occurred: Message: \n",
      "\n",
      "An error occurred: Message: \n",
      "\n",
      "An error occurred: Message: \n",
      "\n",
      "An error occurred: Message: \n",
      "\n",
      "An error occurred: Message: \n",
      "\n",
      "CPU times: user 3min 19s, sys: 24.4 s, total: 3min 43s\n",
      "Wall time: 30min 19s\n"
     ]
    }
   ],
   "source": [
    "%%time\n",
    "\n",
    "# Initialize lists to store all comments and dates\n",
    "all_comments = []\n",
    "all_dates = []\n",
    "\n",
    "# Iterate through all movie URLs and scrape reviews\n",
    "for movie_url in all_good_movies:\n",
    "    comments, dates = scrape_imdb_reviews(movie_url)\n",
    "    all_comments.extend(comments)\n",
    "    all_dates.extend(dates)\n",
    "\n",
    "# Create a DataFrame with all the reviews\n",
    "data = {\n",
    "    \"comments\": all_comments,\n",
    "    \"date\": all_dates,\n",
    "}\n",
    "\n",
    "df_scrapped_good = pd.DataFrame(data)"
   ]
  },
  {
   "cell_type": "code",
   "execution_count": 10,
   "id": "2e996a07-79be-421f-a3ec-a901af10c810",
   "metadata": {
    "tags": []
   },
   "outputs": [
    {
     "name": "stdout",
     "output_type": "stream",
     "text": [
      "Amount of comments on movies with average rate higher than 6:  7229\n"
     ]
    }
   ],
   "source": [
    "# Converting date columns format\n",
    "df_scrapped_good_movies = df_scrapped_good.drop_duplicates()\\\n",
    "    .assign(date=lambda x: pd.to_datetime(x.date, format='%d %B %Y'))\n",
    "\n",
    "print('Amount of comments on movies with average rate higher than 6: ', df_scrapped_good_movies.shape[0])"
   ]
  },
  {
   "cell_type": "code",
   "execution_count": 11,
   "id": "76b1671d-334a-423e-8bc0-88c1c5cabf15",
   "metadata": {
    "tags": []
   },
   "outputs": [
    {
     "name": "stdout",
     "output_type": "stream",
     "text": [
      "<class 'pandas.core.frame.DataFrame'>\n",
      "Index: 7229 entries, 0 to 138314\n",
      "Data columns (total 2 columns):\n",
      " #   Column    Non-Null Count  Dtype         \n",
      "---  ------    --------------  -----         \n",
      " 0   comments  7229 non-null   object        \n",
      " 1   date      7229 non-null   datetime64[ns]\n",
      "dtypes: datetime64[ns](1), object(1)\n",
      "memory usage: 169.4+ KB\n"
     ]
    }
   ],
   "source": [
    "df_scrapped_good_movies.info()"
   ]
  },
  {
   "cell_type": "code",
   "execution_count": 19,
   "id": "2ce1c3ee-5973-45d4-8e20-d22c50070777",
   "metadata": {
    "collapsed": true,
    "jupyter": {
     "outputs_hidden": true
    },
    "tags": []
   },
   "outputs": [
    {
     "name": "stdout",
     "output_type": "stream",
     "text": [
      "An error occurred: Message: \n",
      "\n",
      "An error occurred: Message: \n",
      "\n",
      "An error occurred: Message: \n",
      "\n",
      "An error occurred: Message: \n",
      "\n",
      "An error occurred: Message: \n",
      "\n",
      "An error occurred: Message: \n",
      "\n",
      "An error occurred: Message: \n",
      "\n",
      "An error occurred: Message: \n",
      "\n",
      "An error occurred: Message: \n",
      "\n",
      "An error occurred: Message: \n",
      "\n",
      "An error occurred: Message: \n",
      "\n",
      "An error occurred: Message: \n",
      "\n",
      "An error occurred: Message: \n",
      "\n",
      "An error occurred: Message: \n",
      "\n",
      "An error occurred: Message: \n",
      "\n",
      "An error occurred: Message: \n",
      "\n",
      "CPU times: user 3min 50s, sys: 26.7 s, total: 4min 16s\n",
      "Wall time: 38min 5s\n"
     ]
    }
   ],
   "source": [
    "%%time\n",
    "\n",
    "# Initialize lists to store all comments and dates\n",
    "all_comments = []\n",
    "all_dates = []\n",
    "\n",
    "# Iterate through all movie URLs and scrape reviews\n",
    "for movie_url in all_bad_movies:\n",
    "    comments, dates = scrape_imdb_reviews(movie_url)\n",
    "    all_comments.extend(comments)\n",
    "    all_dates.extend(dates)\n",
    "\n",
    "# Create a DataFrame with all the reviews\n",
    "data = {\n",
    "    \"comments\": all_comments,\n",
    "    \"date\": all_dates,\n",
    "}\n",
    "\n",
    "df_scrapped_bad = pd.DataFrame(data)"
   ]
  },
  {
   "cell_type": "code",
   "execution_count": 20,
   "id": "41b6ebaf-2922-4c8a-8e04-be6d8dbe002a",
   "metadata": {
    "tags": []
   },
   "outputs": [
    {
     "name": "stdout",
     "output_type": "stream",
     "text": [
      "Amount of comments on movies with average rate lower than 6:  7259\n"
     ]
    }
   ],
   "source": [
    "df_scrapped_bad_movies = df_scrapped_bad.drop_duplicates()\\\n",
    "    .assign(date=lambda x: pd.to_datetime(x.date, format='%d %B %Y'))\n",
    "\n",
    "print('Amount of comments on movies with average rate lower than 6: ', df_scrapped_bad_movies.shape[0])"
   ]
  },
  {
   "cell_type": "code",
   "execution_count": 21,
   "id": "b71582c0-a3ed-427f-8bc5-eb67f779c25d",
   "metadata": {
    "tags": []
   },
   "outputs": [
    {
     "name": "stdout",
     "output_type": "stream",
     "text": [
      "<class 'pandas.core.frame.DataFrame'>\n",
      "Index: 7259 entries, 0 to 160563\n",
      "Data columns (total 2 columns):\n",
      " #   Column    Non-Null Count  Dtype         \n",
      "---  ------    --------------  -----         \n",
      " 0   comments  7259 non-null   object        \n",
      " 1   date      7259 non-null   datetime64[ns]\n",
      "dtypes: datetime64[ns](1), object(1)\n",
      "memory usage: 170.1+ KB\n"
     ]
    }
   ],
   "source": [
    "df_scrapped_bad_movies.info()"
   ]
  },
  {
   "cell_type": "markdown",
   "id": "1052d34d-ac26-4704-84ca-e5c561cdd01f",
   "metadata": {},
   "source": [
    "# 4. Detecting comment languages"
   ]
  },
  {
   "cell_type": "code",
   "execution_count": 13,
   "id": "d797ea9e-0df7-4220-84b4-b9e9e4bb571b",
   "metadata": {
    "tags": []
   },
   "outputs": [],
   "source": [
    "def detect_language(comment):\n",
    "    \"\"\"Function to detect the language of a comment\n",
    "    \"\"\"\n",
    "    try:\n",
    "        return detect(comment)\n",
    "    except:\n",
    "        return 'unknown'  # Handle any errors during language detection"
   ]
  },
  {
   "cell_type": "markdown",
   "id": "57b026fd-08a9-40af-a5d8-f0102c71a5e2",
   "metadata": {},
   "source": [
    "## 4.1. Good movies"
   ]
  },
  {
   "cell_type": "code",
   "execution_count": 14,
   "id": "c28d9b31-6649-4b22-89df-f7a9178cb1f1",
   "metadata": {
    "tags": []
   },
   "outputs": [],
   "source": [
    "# Apply the language detection function to the DataFrame\n",
    "df_scrapped_good_movies['language'] = df_scrapped_good_movies['comments'].apply(detect_language)"
   ]
  },
  {
   "cell_type": "code",
   "execution_count": 17,
   "id": "9adb6e9b-f115-4763-a373-d60a89d6e0c0",
   "metadata": {
    "tags": []
   },
   "outputs": [
    {
     "data": {
      "text/plain": [
       "language\n",
       "en    7224\n",
       "id       1\n",
       "so       1\n",
       "sl       1\n",
       "pt       1\n",
       "fr       1\n",
       "Name: count, dtype: int64"
      ]
     },
     "execution_count": 17,
     "metadata": {},
     "output_type": "execute_result"
    }
   ],
   "source": [
    "df_scrapped_good_movies.language.value_counts()"
   ]
  },
  {
   "cell_type": "code",
   "execution_count": 18,
   "id": "47fdf54d-1b08-471b-8ea0-cfe761ec195a",
   "metadata": {
    "tags": []
   },
   "outputs": [
    {
     "data": {
      "text/html": [
       "<div>\n",
       "<style scoped>\n",
       "    .dataframe tbody tr th:only-of-type {\n",
       "        vertical-align: middle;\n",
       "    }\n",
       "\n",
       "    .dataframe tbody tr th {\n",
       "        vertical-align: top;\n",
       "    }\n",
       "\n",
       "    .dataframe thead th {\n",
       "        text-align: right;\n",
       "    }\n",
       "</style>\n",
       "<table border=\"1\" class=\"dataframe\">\n",
       "  <thead>\n",
       "    <tr style=\"text-align: right;\">\n",
       "      <th></th>\n",
       "      <th>comments</th>\n",
       "      <th>date</th>\n",
       "      <th>language</th>\n",
       "    </tr>\n",
       "  </thead>\n",
       "  <tbody>\n",
       "    <tr>\n",
       "      <th>59217</th>\n",
       "      <td>Bad acting, bad writing... its bad bbbbbbbjsus...</td>\n",
       "      <td>2022-01-14</td>\n",
       "      <td>id</td>\n",
       "    </tr>\n",
       "    <tr>\n",
       "      <th>64368</th>\n",
       "      <td>If you're a horror fan your atleast going to l...</td>\n",
       "      <td>2022-01-15</td>\n",
       "      <td>so</td>\n",
       "    </tr>\n",
       "    <tr>\n",
       "      <th>69917</th>\n",
       "      <td>Ma pis pe filmu vostru da mi ba banii inapoi 2...</td>\n",
       "      <td>2022-01-16</td>\n",
       "      <td>sl</td>\n",
       "    </tr>\n",
       "    <tr>\n",
       "      <th>85524</th>\n",
       "      <td>Panico 5 é um filme maravilhoso.Esse filme é i...</td>\n",
       "      <td>2022-01-28</td>\n",
       "      <td>pt</td>\n",
       "    </tr>\n",
       "    <tr>\n",
       "      <th>131060</th>\n",
       "      <td>MAGGIE BETTS - THE BURIAL - AMAZON PRIME - 202...</td>\n",
       "      <td>2023-10-31</td>\n",
       "      <td>fr</td>\n",
       "    </tr>\n",
       "  </tbody>\n",
       "</table>\n",
       "</div>"
      ],
      "text/plain": [
       "                                                 comments       date language\n",
       "59217   Bad acting, bad writing... its bad bbbbbbbjsus... 2022-01-14       id\n",
       "64368   If you're a horror fan your atleast going to l... 2022-01-15       so\n",
       "69917   Ma pis pe filmu vostru da mi ba banii inapoi 2... 2022-01-16       sl\n",
       "85524   Panico 5 é um filme maravilhoso.Esse filme é i... 2022-01-28       pt\n",
       "131060  MAGGIE BETTS - THE BURIAL - AMAZON PRIME - 202... 2023-10-31       fr"
      ]
     },
     "execution_count": 18,
     "metadata": {},
     "output_type": "execute_result"
    }
   ],
   "source": [
    "df_scrapped_good_movies.query('language != \"en\"')"
   ]
  },
  {
   "cell_type": "markdown",
   "id": "c248eba0-3f63-4dd8-8a3e-0fb9f1797522",
   "metadata": {},
   "source": [
    "## 4.2. Bad movies"
   ]
  },
  {
   "cell_type": "code",
   "execution_count": 22,
   "id": "bd525c63-7b2c-447d-bacf-9afdc0845318",
   "metadata": {
    "tags": []
   },
   "outputs": [],
   "source": [
    "# Apply the language detection function to the DataFrame\n",
    "df_scrapped_bad_movies['language'] = df_scrapped_bad_movies['comments'].apply(detect_language)"
   ]
  },
  {
   "cell_type": "code",
   "execution_count": 23,
   "id": "3a6b4a59-0a8e-4294-9769-affa1c441940",
   "metadata": {
    "tags": []
   },
   "outputs": [
    {
     "data": {
      "text/plain": [
       "language\n",
       "en    7256\n",
       "pt       2\n",
       "sl       1\n",
       "Name: count, dtype: int64"
      ]
     },
     "execution_count": 23,
     "metadata": {},
     "output_type": "execute_result"
    }
   ],
   "source": [
    "df_scrapped_bad_movies.language.value_counts()"
   ]
  },
  {
   "cell_type": "code",
   "execution_count": 24,
   "id": "452bac72-a69a-4ce1-a5fe-0bce3fdfa775",
   "metadata": {
    "tags": []
   },
   "outputs": [
    {
     "data": {
      "text/html": [
       "<div>\n",
       "<style scoped>\n",
       "    .dataframe tbody tr th:only-of-type {\n",
       "        vertical-align: middle;\n",
       "    }\n",
       "\n",
       "    .dataframe tbody tr th {\n",
       "        vertical-align: top;\n",
       "    }\n",
       "\n",
       "    .dataframe thead th {\n",
       "        text-align: right;\n",
       "    }\n",
       "</style>\n",
       "<table border=\"1\" class=\"dataframe\">\n",
       "  <thead>\n",
       "    <tr style=\"text-align: right;\">\n",
       "      <th></th>\n",
       "      <th>comments</th>\n",
       "      <th>date</th>\n",
       "      <th>language</th>\n",
       "    </tr>\n",
       "  </thead>\n",
       "  <tbody>\n",
       "    <tr>\n",
       "      <th>63859</th>\n",
       "      <td>Not goood.move very not good\\njust move.garbag...</td>\n",
       "      <td>2022-05-28</td>\n",
       "      <td>sl</td>\n",
       "    </tr>\n",
       "    <tr>\n",
       "      <th>63863</th>\n",
       "      <td>De positivo neste filme apenas Ana de Armas e ...</td>\n",
       "      <td>2022-03-25</td>\n",
       "      <td>pt</td>\n",
       "    </tr>\n",
       "    <tr>\n",
       "      <th>92901</th>\n",
       "      <td>Violento e preciso...um verdadeiro massacre.Um...</td>\n",
       "      <td>2022-02-19</td>\n",
       "      <td>pt</td>\n",
       "    </tr>\n",
       "  </tbody>\n",
       "</table>\n",
       "</div>"
      ],
      "text/plain": [
       "                                                comments       date language\n",
       "63859  Not goood.move very not good\\njust move.garbag... 2022-05-28       sl\n",
       "63863  De positivo neste filme apenas Ana de Armas e ... 2022-03-25       pt\n",
       "92901  Violento e preciso...um verdadeiro massacre.Um... 2022-02-19       pt"
      ]
     },
     "execution_count": 24,
     "metadata": {},
     "output_type": "execute_result"
    }
   ],
   "source": [
    "df_scrapped_bad_movies.query('language != \"en\"')"
   ]
  },
  {
   "cell_type": "markdown",
   "id": "0ae8cecb-0bfb-4ba7-b1fc-fdd283b1aced",
   "metadata": {},
   "source": [
    "# 5. Data export"
   ]
  },
  {
   "cell_type": "code",
   "execution_count": 25,
   "id": "d56c46cb-b019-4d1d-bd9c-87485371a30b",
   "metadata": {
    "tags": []
   },
   "outputs": [],
   "source": [
    "# Exporting both dfs to csv\n",
    "df_scrapped_good_movies.to_csv('Data/good_movie_reviews.csv', index=False)\n",
    "df_scrapped_bad_movies.to_csv('Data/bad_movie_reviews.csv', index=False)"
   ]
  },
  {
   "cell_type": "code",
   "execution_count": null,
   "id": "86bf986c-3244-4099-9c2f-acdd7da1a0e5",
   "metadata": {},
   "outputs": [],
   "source": []
  }
 ],
 "metadata": {
  "kernelspec": {
   "display_name": "Python 3 (ipykernel)",
   "language": "python",
   "name": "python3"
  },
  "language_info": {
   "codemirror_mode": {
    "name": "ipython",
    "version": 3
   },
   "file_extension": ".py",
   "mimetype": "text/x-python",
   "name": "python",
   "nbconvert_exporter": "python",
   "pygments_lexer": "ipython3",
   "version": "3.11.3"
  }
 },
 "nbformat": 4,
 "nbformat_minor": 5
}
