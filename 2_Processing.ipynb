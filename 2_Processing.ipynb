{
 "cells": [
  {
   "cell_type": "markdown",
   "id": "e177915b-f43e-4080-a414-f6b17a1cc06c",
   "metadata": {},
   "source": [
    "# 1. Library Imports"
   ]
  },
  {
   "cell_type": "code",
   "execution_count": 1,
   "id": "4c1ff013-9cb3-4264-9fee-2f74f77963f3",
   "metadata": {
    "tags": []
   },
   "outputs": [],
   "source": [
    "import pandas as pd"
   ]
  },
  {
   "cell_type": "markdown",
   "id": "35249b12-3bcc-46b8-82fc-2a52c305934f",
   "metadata": {},
   "source": [
    "# 2. Dataset imports"
   ]
  },
  {
   "cell_type": "code",
   "execution_count": 7,
   "id": "a8fd6c03-8e33-4df0-9b6e-45d8d05c8a23",
   "metadata": {
    "tags": []
   },
   "outputs": [
    {
     "name": "stdout",
     "output_type": "stream",
     "text": [
      "Amount of registries from good movies:  7229\n",
      "Amount of registries from bad movies:  7259\n"
     ]
    }
   ],
   "source": [
    "df_good =  pd.read_csv('Data/good_movie_reviews.csv', parse_dates=['date']) \n",
    "df_bad = pd.read_csv('Data/bad_movie_reviews.csv', parse_dates=['date'])\n",
    "\n",
    "print('Amount of registries from good movies: ', df_good.shape[0])\n",
    "print('Amount of registries from bad movies: ', df_bad.shape[0])"
   ]
  },
  {
   "cell_type": "markdown",
   "id": "439490a8-3bcb-4023-9393-d0f0d0a9c4fd",
   "metadata": {},
   "source": [
    "# 3. Filters\n",
    "\n",
    "- Year between 2022 and 2023\n",
    "- Only english comments (en)\n",
    "- Keep only the comments column\n",
    "- Concatenate both data frames (Union)"
   ]
  },
  {
   "cell_type": "code",
   "execution_count": 15,
   "id": "f3adbdb7-8cb3-46f9-8179-decb7e0365c4",
   "metadata": {
    "tags": []
   },
   "outputs": [],
   "source": [
    "df_good_filtered = df_good.query('date.dt.year >= 2022 and date.dt.year <= 2023 and language == \"en\"')[['comments']]\n",
    "df_bad_filtered = df_bad.query('date.dt.year >= 2022 and date.dt.year <= 2023 and language == \"en\"')[['comments']]"
   ]
  },
  {
   "cell_type": "code",
   "execution_count": 17,
   "id": "e2fb503d-a52e-4f6d-a37f-ee72272643ac",
   "metadata": {
    "tags": []
   },
   "outputs": [
    {
     "name": "stdout",
     "output_type": "stream",
     "text": [
      "Amount of registries from all movies:  14480\n"
     ]
    }
   ],
   "source": [
    "df_reviews = pd.concat([df_good_filtered, df_bad_filtered])\n",
    "\n",
    "print('Amount of registries from all movies: ', df_reviews.shape[0])"
   ]
  },
  {
   "cell_type": "code",
   "execution_count": null,
   "id": "0c1e4317-65b6-4117-88e4-120759c5d677",
   "metadata": {},
   "outputs": [],
   "source": []
  }
 ],
 "metadata": {
  "kernelspec": {
   "display_name": "Python 3 (ipykernel)",
   "language": "python",
   "name": "python3"
  },
  "language_info": {
   "codemirror_mode": {
    "name": "ipython",
    "version": 3
   },
   "file_extension": ".py",
   "mimetype": "text/x-python",
   "name": "python",
   "nbconvert_exporter": "python",
   "pygments_lexer": "ipython3",
   "version": "3.11.3"
  }
 },
 "nbformat": 4,
 "nbformat_minor": 5
}
